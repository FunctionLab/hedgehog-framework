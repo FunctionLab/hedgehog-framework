{
 "cells": [
  {
   "cell_type": "markdown",
   "metadata": {},
   "source": [
    "This notebook is used to generate the HDF5 datasets `h5_datasets` used in `../train` and `../eval` from the Berry methylation profiling dataset."
   ]
  },
  {
   "cell_type": "code",
   "execution_count": 1,
   "metadata": {},
   "outputs": [],
   "source": [
    "from collections import defaultdict\n",
    "import glob\n",
    "import os\n",
    "import random\n",
    "\n",
    "import h5py\n",
    "import numpy as np\n",
    "import pandas as pd"
   ]
  },
  {
   "cell_type": "code",
   "execution_count": 2,
   "metadata": {},
   "outputs": [],
   "source": [
    "from selene_sdk.samplers import RandomPositionsSampler\n",
    "from selene_sdk.sequences import Genome\n",
    "from selene_sdk.targets.genomic_features_h5 import GenomicFeaturesH5"
   ]
  },
  {
   "cell_type": "code",
   "execution_count": 3,
   "metadata": {},
   "outputs": [],
   "source": [
    "seed = 121\n",
    "random.seed(seed)\n",
    "np.random.seed(seed)"
   ]
  },
  {
   "cell_type": "code",
   "execution_count": 4,
   "metadata": {},
   "outputs": [],
   "source": [
    "SEQ_LEN = 4096"
   ]
  },
  {
   "cell_type": "code",
   "execution_count": 5,
   "metadata": {},
   "outputs": [],
   "source": [
    "data_dir = './berry_for_ML'"
   ]
  },
  {
   "cell_type": "code",
   "execution_count": 6,
   "metadata": {},
   "outputs": [
    {
     "data": {
      "text/html": [
       "<div>\n",
       "<style scoped>\n",
       "    .dataframe tbody tr th:only-of-type {\n",
       "        vertical-align: middle;\n",
       "    }\n",
       "\n",
       "    .dataframe tbody tr th {\n",
       "        vertical-align: top;\n",
       "    }\n",
       "\n",
       "    .dataframe thead th {\n",
       "        text-align: right;\n",
       "    }\n",
       "</style>\n",
       "<table border=\"1\" class=\"dataframe\">\n",
       "  <thead>\n",
       "    <tr style=\"text-align: right;\">\n",
       "      <th></th>\n",
       "      <th>0</th>\n",
       "      <th>1</th>\n",
       "      <th>2</th>\n",
       "      <th>3</th>\n",
       "    </tr>\n",
       "  </thead>\n",
       "  <tbody>\n",
       "    <tr>\n",
       "      <th>0</th>\n",
       "      <td>chr1</td>\n",
       "      <td>10469</td>\n",
       "      <td>10471</td>\n",
       "      <td>0</td>\n",
       "    </tr>\n",
       "    <tr>\n",
       "      <th>1</th>\n",
       "      <td>chr1</td>\n",
       "      <td>10471</td>\n",
       "      <td>10473</td>\n",
       "      <td>1</td>\n",
       "    </tr>\n",
       "    <tr>\n",
       "      <th>2</th>\n",
       "      <td>chr1</td>\n",
       "      <td>10484</td>\n",
       "      <td>10486</td>\n",
       "      <td>2</td>\n",
       "    </tr>\n",
       "    <tr>\n",
       "      <th>3</th>\n",
       "      <td>chr1</td>\n",
       "      <td>10489</td>\n",
       "      <td>10491</td>\n",
       "      <td>3</td>\n",
       "    </tr>\n",
       "    <tr>\n",
       "      <th>4</th>\n",
       "      <td>chr1</td>\n",
       "      <td>10493</td>\n",
       "      <td>10495</td>\n",
       "      <td>4</td>\n",
       "    </tr>\n",
       "  </tbody>\n",
       "</table>\n",
       "</div>"
      ],
      "text/plain": [
       "      0      1      2  3\n",
       "0  chr1  10469  10471  0\n",
       "1  chr1  10471  10473  1\n",
       "2  chr1  10484  10486  2\n",
       "3  chr1  10489  10491  3\n",
       "4  chr1  10493  10495  4"
      ]
     },
     "execution_count": 6,
     "metadata": {},
     "output_type": "execute_result"
    }
   ],
   "source": [
    "df = pd.read_csv(data_dir + '/global_mapping_ML.bed', sep='\\t', header=None)\n",
    "df.head()"
   ]
  },
  {
   "cell_type": "code",
   "execution_count": 7,
   "metadata": {},
   "outputs": [
    {
     "data": {
      "text/plain": [
       "(28564419, 4)"
      ]
     },
     "execution_count": 7,
     "metadata": {},
     "output_type": "execute_result"
    }
   ],
   "source": [
    "df.shape"
   ]
  },
  {
   "cell_type": "code",
   "execution_count": 8,
   "metadata": {},
   "outputs": [],
   "source": [
    "train_coords = df[~df[0].isin(['chr8', 'chr9', 'chr10', 'chrX', 'chrY'])]"
   ]
  },
  {
   "cell_type": "code",
   "execution_count": 9,
   "metadata": {},
   "outputs": [
    {
     "data": {
      "text/plain": [
       "array(['chr1', 'chr11', 'chr12', 'chr13', 'chr14', 'chr15', 'chr16',\n",
       "       'chr17', 'chr18', 'chr19', 'chr2', 'chr20', 'chr21', 'chr22',\n",
       "       'chr3', 'chr4', 'chr5', 'chr6', 'chr7'], dtype=object)"
      ]
     },
     "execution_count": 9,
     "metadata": {},
     "output_type": "execute_result"
    }
   ],
   "source": [
    "train_coords[0].unique()"
   ]
  },
  {
   "cell_type": "code",
   "execution_count": 10,
   "metadata": {},
   "outputs": [],
   "source": [
    "valid_coords = df[df[0].isin(['chr10'])]\n",
    "test_coords = df[df[0].isin(['chr8', 'chr9'])]"
   ]
  },
  {
   "cell_type": "code",
   "execution_count": 11,
   "metadata": {},
   "outputs": [
    {
     "data": {
      "text/plain": [
       "((23285040, 4), (1369946, 4), (2543503, 4))"
      ]
     },
     "execution_count": 11,
     "metadata": {},
     "output_type": "execute_result"
    }
   ],
   "source": [
    "train_coords.shape, valid_coords.shape, test_coords.shape"
   ]
  },
  {
   "cell_type": "code",
   "execution_count": 12,
   "metadata": {},
   "outputs": [
    {
     "data": {
      "text/plain": [
       "(array(['chr10'], dtype=object), array(['chr8', 'chr9'], dtype=object))"
      ]
     },
     "execution_count": 12,
     "metadata": {},
     "output_type": "execute_result"
    }
   ],
   "source": [
    "valid_coords[0].unique(), test_coords[0].unique()"
   ]
  },
  {
   "cell_type": "code",
   "execution_count": 13,
   "metadata": {},
   "outputs": [],
   "source": [
    "del df"
   ]
  },
  {
   "cell_type": "code",
   "execution_count": 14,
   "metadata": {},
   "outputs": [],
   "source": [
    "tgts = h5py.File(data_dir + \"/global_mapping_tracks.h5\", 'r')['targets'][()]"
   ]
  },
  {
   "cell_type": "code",
   "execution_count": null,
   "metadata": {},
   "outputs": [],
   "source": [
    "N_targets = 296\n",
    "genome = Genome('../resources/hg38_UCSC.fa')\n",
    "targets = np.arange(N_targets)\n",
    "\n",
    "target_query = GenomicFeaturesH5(\n",
    "    data_dir + \"/global_mapping_ML.bed.gz\",\n",
    "    data_dir + \"/global_mapping_tracks.h5\",\n",
    "    targets\n",
    ")\n",
    "\n",
    "sampler = RandomPositionsSampler(\n",
    "    genome,\n",
    "    target_query,\n",
    "    targets,\n",
    "    seed=seed,\n",
    "    test_holdout=['chr8', 'chr9'],\n",
    "    validation_holdout=['chr10'],\n",
    "    exclude_chrs=['_', 'chrX', 'chrY', 'chrM'],\n",
    "    sequence_length=SEQ_LEN,\n",
    "    center_bin_to_predict=[SEQ_LEN // 2,\n",
    "                           SEQ_LEN // 2 + 1],\n",
    "    feature_thresholds=None\n",
    ")"
   ]
  },
  {
   "cell_type": "code",
   "execution_count": 16,
   "metadata": {},
   "outputs": [
    {
     "data": {
      "text/plain": [
       "'./h5_datasets'"
      ]
     },
     "execution_count": 16,
     "metadata": {},
     "output_type": "execute_result"
    }
   ],
   "source": [
    "OUTDIR = './h5_datasets'\n",
    "os.makedirs(OUTDIR, exist_ok=True)\n",
    "OUTDIR"
   ]
  },
  {
   "cell_type": "markdown",
   "metadata": {},
   "source": [
    "We have already randomly sampled subsets from each of `train_coords`, `valid_coords`, and `test_coords` which we load here for reproducing the dataset HDF5 generation."
   ]
  },
  {
   "cell_type": "code",
   "execution_count": 19,
   "metadata": {},
   "outputs": [
    {
     "name": "stdout",
     "output_type": "stream",
     "text": [
      "./global.positives_set/train.seqlen=4096.seed=121.N=12000000.h5\n"
     ]
    },
    {
     "data": {
      "text/plain": [
       "array([['chr7', '57479286'],\n",
       "       ['chr20', '6920231'],\n",
       "       ['chr2', '11132210'],\n",
       "       ['chr20', '17805757'],\n",
       "       ['chr12', '204480']], dtype='<U9')"
      ]
     },
     "execution_count": 19,
     "metadata": {},
     "output_type": "execute_result"
    }
   ],
   "source": [
    "mode = 'train'\n",
    "N = 12000000\n",
    "\n",
    "train0_out = os.path.join(OUTDIR, '{0}.seqlen={1}.seed={2}.N={3}.h5'.format(\n",
    "                                    mode, SEQ_LEN, seed, N))\n",
    "print(train0_out)\n",
    "\n",
    "train_coords0 = np.load(os.path.join(COORDS, 'train.coords.seed=121.N=12000000.tsv.npy'))\n",
    "train_coords0[:5]"
   ]
  },
  {
   "cell_type": "code",
   "execution_count": 20,
   "metadata": {},
   "outputs": [
    {
     "name": "stdout",
     "output_type": "stream",
     "text": [
      "./global.positives_set/train.seqlen=4096.seed=121.N=12000000.1.h5\n"
     ]
    },
    {
     "data": {
      "text/plain": [
       "array([['chr2', '6276629'],\n",
       "       ['chr19', '50937945'],\n",
       "       ['chr19', '21447306'],\n",
       "       ['chr12', '53341523'],\n",
       "       ['chr4', '40462695']], dtype='<U9')"
      ]
     },
     "execution_count": 20,
     "metadata": {},
     "output_type": "execute_result"
    }
   ],
   "source": [
    "mode = 'train'\n",
    "N = 12000000\n",
    "\n",
    "train1_out = os.path.join(OUTDIR, '{0}.seqlen={1}.seed={2}.N={3}.1.h5'.format(\n",
    "                                    mode, SEQ_LEN, seed, N))\n",
    "print(train1_out)\n",
    "train_coords1 = np.load(os.path.join(COORDS, 'train.coords.seed=121.N=12000000.1.tsv.npy'))\n",
    "train_coords1[:5]"
   ]
  },
  {
   "cell_type": "code",
   "execution_count": 21,
   "metadata": {},
   "outputs": [
    {
     "name": "stdout",
     "output_type": "stream",
     "text": [
      "./global.positives_set/validate.seqlen=4096.seed=121.N=32000.h5\n"
     ]
    },
    {
     "data": {
      "text/plain": [
       "array([['chr10', '1731297'],\n",
       "       ['chr10', '133141284'],\n",
       "       ['chr10', '114043516'],\n",
       "       ['chr10', '83803929'],\n",
       "       ['chr10', '114004460']], dtype='<U9')"
      ]
     },
     "execution_count": 21,
     "metadata": {},
     "output_type": "execute_result"
    }
   ],
   "source": [
    "mode = 'validate'\n",
    "N = 32000\n",
    "\n",
    "valid_out = os.path.join(OUTDIR, '{0}.seqlen={1}.seed={2}.N={3}.h5'.format(\n",
    "                                    mode, SEQ_LEN, seed, N))\n",
    "print(valid_out)\n",
    "valid_coords = np.load(os.path.join(COORDS, 'validate.coords.seed=121.N=32000.tsv.npy'))\n",
    "valid_coords[:5]"
   ]
  },
  {
   "cell_type": "code",
   "execution_count": 22,
   "metadata": {},
   "outputs": [
    {
     "name": "stdout",
     "output_type": "stream",
     "text": [
      "./global.positives_set/test.seqlen=4096.seed=121.N=600000.h5\n"
     ]
    },
    {
     "data": {
      "text/plain": [
       "array([['chr9', '111493894'],\n",
       "       ['chr9', '115243655'],\n",
       "       ['chr9', '32958568'],\n",
       "       ['chr8', '125227457'],\n",
       "       ['chr8', '133297608']], dtype='<U9')"
      ]
     },
     "execution_count": 22,
     "metadata": {},
     "output_type": "execute_result"
    }
   ],
   "source": [
    "mode = 'test'\n",
    "N = 600000\n",
    "\n",
    "test_out = os.path.join(OUTDIR, '{0}.seqlen={1}.seed={2}.N={3}.h5'.format(\n",
    "                                    mode, SEQ_LEN, seed, N))\n",
    "print(test_out)\n",
    "test_coords = np.load(os.path.join(COORDS, 'test.coords.seed=121.N=600000.tsv.npy'))\n",
    "test_coords[:5]"
   ]
  },
  {
   "cell_type": "code",
   "execution_count": 23,
   "metadata": {},
   "outputs": [],
   "source": [
    "cg = np.array([[0., 1., 0., 0.],\n",
    "               [0., 0., 1., 0.]])"
   ]
  },
  {
   "cell_type": "code",
   "execution_count": 43,
   "metadata": {},
   "outputs": [],
   "source": [
    "def get_positives(out_filename, sampler, pos_coords, N):\n",
    "    with h5py.File(out_filename, 'a') as fh:\n",
    "        if 'sequences' in fh:\n",
    "            del fh['sequences']\n",
    "            del fh['targets']\n",
    "            del fh['sequences_length']\n",
    "        out_fileprefix = out_filename.rsplit('.', 1)[0]\n",
    "        \n",
    "        na_count = 0\n",
    "        sequences = []\n",
    "        targets = []\n",
    "        coords = []\n",
    "        for chrom, pos in pos_coords:\n",
    "            pos = int(pos)\n",
    "            output = sampler._retrieve(chrom, pos)\n",
    "            if output is None:\n",
    "                na_count += 1\n",
    "                continue\n",
    "            seq, tgts = output\n",
    "            assert np.all(seq[2047:2049] == cg)\n",
    "            \n",
    "            seq = np.packbits(seq > 0, axis=0)\n",
    "            sequences.append(seq)\n",
    "            targets.append(tgts)\n",
    "            coords.append((chrom, pos))\n",
    "            if len(coords) == N:\n",
    "                break\n",
    "        \n",
    "        seqs_mat = np.zeros((len(pos_coords), sequences[0].shape[0], 4))\n",
    "        for ix, seq in enumerate(sequences):\n",
    "            seqs_mat[ix] = seq\n",
    "        \n",
    "        targets = np.vstack(targets)\n",
    "        fh.create_dataset('sequences_length', data=SEQ_LEN)\n",
    "        fh.create_dataset('sequences', data=sequences)\n",
    "        fh.create_dataset('targets', data=targets)    \n",
    "        np.save('{0}.coords.tsv'.format(out_fileprefix), coords)\n",
    "        print(na_count)"
   ]
  },
  {
   "cell_type": "code",
   "execution_count": 44,
   "metadata": {},
   "outputs": [
    {
     "name": "stdout",
     "output_type": "stream",
     "text": [
      "0\n"
     ]
    }
   ],
   "source": [
    "get_positives(valid_out, sampler, valid_coords, 32000)"
   ]
  },
  {
   "cell_type": "code",
   "execution_count": 85,
   "metadata": {},
   "outputs": [
    {
     "name": "stdout",
     "output_type": "stream",
     "text": [
      "0\n"
     ]
    }
   ],
   "source": [
    "get_positives(test_out, sampler, test_coords, 600000)"
   ]
  },
  {
   "cell_type": "code",
   "execution_count": null,
   "metadata": {},
   "outputs": [],
   "source": [
    "get_positives(train0_out, sampler, train_coords0, 12000000)"
   ]
  },
  {
   "cell_type": "code",
   "execution_count": null,
   "metadata": {},
   "outputs": [],
   "source": [
    "get_positives(train1_out, sampler, train_coords1, 12000000)"
   ]
  }
 ],
 "metadata": {
  "kernelspec": {
   "display_name": "py38",
   "language": "python",
   "name": "py38"
  },
  "language_info": {
   "codemirror_mode": {
    "name": "ipython",
    "version": 3
   },
   "file_extension": ".py",
   "mimetype": "text/x-python",
   "name": "python",
   "nbconvert_exporter": "python",
   "pygments_lexer": "ipython3",
   "version": "3.8.20"
  }
 },
 "nbformat": 4,
 "nbformat_minor": 2
}
